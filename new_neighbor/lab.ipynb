{
 "cells": [
  {
   "cell_type": "code",
   "execution_count": 4,
   "metadata": {},
   "outputs": [
    {
     "output_type": "execute_result",
     "data": {
      "text/plain": [
       "1.864672222222223"
      ]
     },
     "metadata": {},
     "execution_count": 4
    }
   ],
   "source": [
    "import re\n",
    "with open(\"time1.txt\",\"r\") as f:\n",
    "    time = f.read()\n",
    "row_list = time.split(\"\\n\")\n",
    "pat = re.compile(\"time: (\\d+.\\d+)\")\n",
    "total_time = 0\n",
    "for i in row_list:\n",
    "    total_time += float(pat.findall(i)[0])\n",
    "total_time += 71.17\n",
    "(total_time / 3600)"
   ]
  },
  {
   "cell_type": "code",
   "execution_count": 3,
   "metadata": {},
   "outputs": [],
   "source": [
    "import pickle as pkl\n",
    "import sys\n",
    "import os\n",
    "sys.path.append(\"..\")\n",
    "from datatool import train_test_val_split\n",
    "import numpy as np\n",
    "import torch\n",
    "import torch.nn as nn\n",
    "from torch.utils.data import DataLoader,TensorDataset\n",
    "from model import BertEncoder, BertPooler,BertConfig,Encoder\n",
    "from lc_model import LinearRegression\n",
    "from lc_tool import setup_logger,setup_seed,getGrad,adjust_learning_rate\n",
    "import time\n",
    "from sklearn.metrics import accuracy_score, precision_score, recall_score\n",
    "from sklearn.model_selection import train_test_split\n",
    "import argparse\n",
    "import logging\n",
    "import matplotlib.pyplot as plt\n",
    "\n",
    "\n",
    "def fit(x,encoder,decoder,device,hist_len=6):\n",
    "    encoderInput = x[:,:,:hist_len,:].float().to(device)\n",
    "    encoderOutput,lastEncoderHiddenState,attention = encoder(encoderInput)\n",
    "    decoderInput = lastEncoderHiddenState.squeeze(0)\n",
    "    decoderOutput = decoder(decoderInput)\n",
    "    return decoderOutput, attention\n",
    "\n",
    "def predict(sample,encoder,decoder,device):\n",
    "    encoder.eval()\n",
    "    decoder.eval()\n",
    "    sample = sample.view(1,*sample.shape)\n",
    "    decoderOutput,attention = fit(sample,encoder,decoder,device)\n",
    "    predict_result = torch.max(decoderOutput, 1)[1].data.cpu().numpy().squeeze()\n",
    "    return predict_result, attention.reshape(6,attention.shape[2],attention.shape[3])\n",
    "\n",
    "def plot_attention(att):\n",
    "    fig = plt.figure(figsize=(3,3))\n",
    "    plt.imshow(att)\n",
    "    plt.yticks(np.arange(att.shape[0]))\n",
    "    plt.xticks(np.arange(att.shape[1]))\n",
    "    return fig\n",
    "\n",
    "def plot_batch(one_batch,figsize=(10,10),alpha=0.5):\n",
    "    fig = plt.figure(figsize=figsize)\n",
    "    for i, seq in enumerate(one_batch):\n",
    "        mask = (seq!=0)\n",
    "        if mask.sum()==0:\n",
    "            continue      \n",
    "        hist_seq,fut_seq = seq[:6],seq[6:]\n",
    "        if i == 0:\n",
    "            plt.scatter(hist_seq[:,0],hist_seq[:,1],c=\"orange\",label=\"hist\",lw=3)\n",
    "            plt.scatter(fut_seq[:,0],fut_seq[:,1],c=\"green\",label=\"future\",lw=3,ls='--')\n",
    "#             plt.gca().add_patch(patches.Rectangle((seq[5,0]-10, seq[5,1]-0.05), 10, 0.1,edgecolor=\"black\",facecolor=\"orange\"))\n",
    "            plt.text(x= seq[5,0]-5, y = seq[5,1]-0.5,s=f\"{i}\",fontsize=12,fontweight=\"bold\", horizontalalignment='center')\n",
    "        elif i == 1:\n",
    "            hist_mask,fut_mask = (hist_seq!=0),(fut_seq!=0)\n",
    "            mhist_seq = hist_seq[hist_mask].reshape(-1,2)\n",
    "            mfut_seq = fut_seq[fut_mask].reshape(-1,2)  \n",
    "            # plot hist\n",
    "            if hist_mask.sum()==0:\n",
    "                pass\n",
    "            else:\n",
    "                plt.scatter(mhist_seq[:,0],mhist_seq[:,1],c=\"blue\",label=\"neighbor hist\",alpha=alpha+0.3,lw=3)\n",
    "            # plot future\n",
    "            if fut_mask.sum()==0:\n",
    "                pass\n",
    "            else:\n",
    "                plt.scatter(mfut_seq[:,0],mfut_seq[:,1],c=\"blue\",label=\"neighbor future\",alpha=alpha,lw=3,ls='--')\n",
    "                plt.text(x= mfut_seq[0,0]-5, y = mfut_seq[0,1]-0.5,s=f\"{i}\",fontsize=12,fontweight=\"bold\", horizontalalignment='center')\n",
    "            #plot current\n",
    "            if (seq[5]!=0).all():\n",
    "                pass\n",
    "#                 plt.gca().add_patch(patches.Rectangle((seq[5,0]-10, seq[5,1]-0.05), 10, 0.1,edgecolor=\"black\",facecolor=\"blue\"))\n",
    "#                 plt.text(x= seq[5,0]-5, y = seq[5,1]-0.5,s=f\"{i}\",fontsize=12,fontweight=\"bold\", horizontalalignment='center')\n",
    "        else:\n",
    "            hist_mask,fut_mask = (hist_seq!=0).any(axis=1),(fut_seq!=0).any(axis=1)\n",
    "            mhist_seq = hist_seq[hist_mask].reshape(-1,2)\n",
    "            mfut_seq = fut_seq[fut_mask].reshape(-1,2)  \n",
    "            # plot hist\n",
    "            if hist_mask.sum()==0:\n",
    "                pass\n",
    "            else:\n",
    "                plt.scatter(mhist_seq[:,0],mhist_seq[:,1],c=\"blue\",alpha=alpha+0.3,lw=3)\n",
    "            # plot future\n",
    "            if fut_mask.sum()==0:\n",
    "                pass\n",
    "            else:\n",
    "                plt.scatter(mfut_seq[:,0],mfut_seq[:,1],c=\"blue\",alpha=alpha,lw=3,ls='--')\n",
    "                plt.text(x= mfut_seq[0,0]-5, y = mfut_seq[0,1]-0.5,s=f\"{i}\",fontsize=12,fontweight=\"bold\", horizontalalignment='center')\n",
    "            #plot current\n",
    "            if (seq[5]!=0).all():\n",
    "                pass\n",
    "#                 plt.gca().add_patch(patches.Rectangle((seq[5,0]-10, seq[5,1]-0.05), 10, 0.1,edgecolor=\"black\",facecolor=\"blue\"))\n",
    "#                 plt.text(x= seq[5,0]-5, y = seq[5,1]-0.5,s=f\"{i}\",fontsize=12,fontweight=\"bold\", horizontalalignment='center')\n",
    "    plt.legend(loc=\"best\")\n",
    "    return fig\n",
    "    \n"
   ]
  },
  {
   "cell_type": "code",
   "execution_count": 4,
   "metadata": {},
   "outputs": [
    {
     "data": {
      "image/png": "[encoded data removed]",
      "text/plain": [
       "<Figure size 360x360 with 1 Axes>"
      ]
     },
     "metadata": {
      "needs_background": "light"
     },
     "output_type": "display_data"
    },
    {
     "data": {
      "image/png": "[encoded data removed]",
      "text/plain": [
       "<Figure size 216x216 with 1 Axes>"
      ]
     },
     "metadata": {
      "needs_background": "light"
     },
     "output_type": "display_data"
    }
   ],
   "source": [
    "# xy-version\n",
    "\n",
    "DEVICE = torch.device(\"cuda:0\" if torch.cuda.is_available() else \"cpu\")\n",
    "BS = 256\n",
    "SEED = 10\n",
    "setup_seed(SEED)\n",
    "conf_json = {\n",
    "        \"hidden_size\":32,\n",
    "        \"num_hidden_layers\":1,\n",
    "        \"num_attention_heads\":1,\n",
    "        \"intermediate_size\":32*4,\n",
    "        \"hidden_act\":\"gelu\",\n",
    "        \"hidden_dropout_prob\":0,\n",
    "        \"attention_probs_dropout_prob\":0\n",
    "    }\n",
    "config = BertConfig()\n",
    "config = config.from_dict(conf_json)\n",
    "encoder = Encoder(config).to(DEVICE)\n",
    "decoder = LinearRegression(conf_json['hidden_size']).to(DEVICE)\n",
    "encoder.load_state_dict(torch.load('model/encoder_sd-10_lr-0.0001_wd-5e-05_maxep-100_bs-256_opt-adam_clip-5.0202118234833480.pkl'))\n",
    "decoder.load_state_dict(torch.load('model/decoder_sd-10_lr-0.0001_wd-5e-05_maxep-100_bs-256_opt-adam_clip-5.0202118234833480.pkl'))\n",
    "\n",
    "\n",
    "with open(\"new_data/total.pkl\",\"rb\") as f:\n",
    "    data = pkl.load(f)\n",
    "right_data, left_data, keep_data = data['right'], data['left'], data['keep']\n",
    "keep_label = torch.zeros(keep_data.shape[0])\n",
    "keepDataset = TensorDataset(torch.from_numpy(keep_data),keep_label)\n",
    "\n",
    "i= 15500\n",
    "sample_data = keepDataset[i][0]\n",
    "sample_label = keepDataset[i][1]\n",
    "plot_batch(sample_data,figsize=(5,5))\n",
    "predict_result, attention = predict(sample_data,encoder,decoder,DEVICE)\n",
    "att = attention[:,0,:]\n",
    "\n",
    "plot_attention(att)\n",
    "plt.show()"
   ]
  },
  {
   "cell_type": "code",
   "execution_count": 11,
   "metadata": {},
   "outputs": [
    {
     "name": "stdout",
     "output_type": "stream",
     "text": [
      "torch.Size([30, 17, 2])\n"
     ]
    },
    {
     "data": {
      "image/png": "[encoded data removed]",
      "text/plain": [
       "<Figure size 360x360 with 1 Axes>"
      ]
     },
     "metadata": {
      "needs_background": "light"
     },
     "output_type": "display_data"
    },
    {
     "data": {
      "image/png": "[encoded data removed]",
      "text/plain": [
       "<Figure size 216x216 with 1 Axes>"
      ]
     },
     "metadata": {
      "needs_background": "light"
     },
     "output_type": "display_data"
    }
   ],
   "source": [
    "import h5py\n",
    "class Encoder(nn.Module):\n",
    "    def __init__(self,config):\n",
    "        super(Encoder, self).__init__()\n",
    "        self.config = config\n",
    "#         self.bn = Mask_BN()\n",
    "        self.embedding = nn.Linear(12,self.config.hidden_size, bias=False)\n",
    "        self.encoder = BertEncoder(self.config)\n",
    "        self.pooler = BertPooler(self.config)\n",
    "        self.gru = nn.GRU(self.config.hidden_size,self.config.hidden_size,batch_first=True)\n",
    "        self.output = nn.Linear(self.config.hidden_size,10)\n",
    "    def forward(self,x):\n",
    "        batchsize,vnum,seqlen,featsize = x.shape[0],x.shape[1],x.shape[2],x.shape[3]\n",
    "#         m =(x.transpose(1, 2).reshape(-1,vnum,featsize)!=0).any(axis=2)*1\n",
    "#         x = self.bn(x)\n",
    "        x_3d = x.transpose(1, 2)\n",
    "        x_3d = x_3d.reshape(-1,vnum,featsize)\n",
    "        x_centralization = x_3d - (x_3d!=0)*(x_3d[:,0,:].unsqueeze(1))\n",
    "        x_emb = self.embedding(x_3d)\n",
    "        m = (x_emb!=0).any(axis=2)*1\n",
    "        attention_mask = m.unsqueeze(1).unsqueeze(2)# wzz\n",
    "        attention_mask = (1.0 - attention_mask) * -10000.0\n",
    "        encoded_outputs,attention = self.encoder(x_emb,attention_mask,get_attention_matrices=True)\n",
    "        encoded_output = self.pooler(encoded_outputs[-1])\n",
    "        encoded_output = encoded_output.reshape(batchsize,seqlen,self.config.hidden_size)\n",
    "        encoded_output,last_encoded_output = self.gru(encoded_output)\n",
    "        return encoded_output,last_encoded_output,attention[0].data.cpu().numpy()\n",
    "\n",
    "\n",
    "def predict(sample,encoder,decoder,device):\n",
    "    encoder.eval()\n",
    "    decoder.eval()\n",
    "    sample = sample.view(1,*sample.shape)\n",
    "    decoderOutput,attention = fit(sample,encoder,decoder,device)\n",
    "    predict_result = torch.max(decoderOutput, 1)[1].data.cpu().numpy().squeeze()\n",
    "    return predict_result, attention.reshape(6,attention.shape[2],attention.shape[3])\n",
    "\n",
    "def plot_attention(att):\n",
    "    fig = plt.figure(figsize=(3,3))\n",
    "    plt.imshow(att)\n",
    "    plt.yticks(np.arange(att.shape[0]))\n",
    "    plt.xticks(np.arange(att.shape[1]))\n",
    "    return fig\n",
    "\n",
    "with h5py.File(\"../pickle_data/salstm_combine_feature_12_dim.hdf5\",\"r\") as f:\n",
    "    right_data = f['right_data'][()]\n",
    "    left_data = f['left_data'][()]\n",
    "    keep_data = f['keep_data'][()]\n",
    "\n",
    "keep_label = torch.zeros(keep_data.shape[0])\n",
    "keepDataset = TensorDataset(torch.from_numpy(keep_data),keep_label)\n",
    "\n",
    "i= 15500\n",
    "sample_data = keepDataset[i][0][:,:,:2]\n",
    "print(sample_data.shape)\n",
    "sample_label = keepDataset[i][1]\n",
    "plot_batch(sample_data,figsize=(5,5))\n",
    "predict_result, attention = predict(sample_data,encoder,decoder,DEVICE)\n",
    "att = attention[:,0,:]\n",
    "\n",
    "plot_attention(att)\n",
    "plt.show()"
   ]
  },
  {
   "cell_type": "code",
   "execution_count": 127,
   "metadata": {},
   "outputs": [],
   "source": [
    "for i in range(0,right_data.shape[0],40):\n",
    "    sample_data = rightDataset[i][0]\n",
    "    sample_label = rightDataset[i][1]\n",
    "    plot_batch(sample_data,figsize=(5,5))\n",
    "    plt.savefig(f\"temp/right_pic/{i}_track.png\")\n",
    "    predict_result, attention = predict(sample_data,encoder,decoder,DEVICE)\n",
    "    att1 = attention[:,0,:]\n",
    "    plot_attention(att1)\n",
    "    plt.savefig(f\"temp/right_pic/{i}_att_1.png\")\n",
    "#     att2 = attention[:,:,0]\n",
    "#     plot_attention(att2)\n",
    "#     plt.savefig(f\"temp/right_pic/{i}_att_2.png\")\n",
    "    plt.close(\"all\")"
   ]
  },
  {
   "cell_type": "code",
   "execution_count": null,
   "metadata": {},
   "outputs": [],
   "source": []
  }
 ],
 "metadata": {
  "kernelspec": {
   "display_name": "Python 3",
   "language": "python",
   "name": "python3"
  },
  "language_info": {
   "codemirror_mode": {
    "name": "ipython",
    "version": 3
   },
   "file_extension": ".py",
   "mimetype": "text/x-python",
   "name": "python",
   "nbconvert_exporter": "python",
   "pygments_lexer": "ipython3",
   "version": "3.6.10-final"
  }
 },
 "nbformat": 4,
 "nbformat_minor": 4
}