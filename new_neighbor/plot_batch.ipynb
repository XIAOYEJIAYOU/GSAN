{
 "cells": [
  {
   "cell_type": "code",
   "execution_count": 1,
   "metadata": {},
   "outputs": [],
   "source": [
    "import pickle as pkl\n",
    "import numpy as np\n",
    "import matplotlib.pyplot as plt\n",
    "import matplotlib.patches as patches"
   ]
  },
  {
   "cell_type": "code",
   "execution_count": 2,
   "metadata": {},
   "outputs": [
    {
     "name": "stdout",
     "output_type": "stream",
     "text": [
      "(66470, 9, 16, 2) (72709, 9, 16, 2) (771850, 9, 16, 2)\n"
     ]
    }
   ],
   "source": [
    "with open(\"new_data/total.pkl\",\"rb\") as f:\n",
    "    data = pkl.load(f)\n",
    "right_data, left_data, keep_data = data['right'], data['left'], data['keep']\n",
    "print(right_data.shape,left_data.shape,keep_data.shape)"
   ]
  },
  {
   "cell_type": "code",
   "execution_count": 60,
   "metadata": {},
   "outputs": [],
   "source": [
    "def plot_batch(one_batch,figsize=(10,10),alpha=0.5):\n",
    "    fig = plt.figure(figsize=figsize)\n",
    "    for i, seq in enumerate(one_batch):\n",
    "        mask = (seq!=0)\n",
    "        if mask.sum()==0:\n",
    "            continue      \n",
    "        hist_seq,fut_seq = seq[:6],seq[6:]\n",
    "        if i == 0:\n",
    "            plt.scatter(hist_seq[:,0],hist_seq[:,1],c=\"orange\",label=\"hist\",lw=3)\n",
    "            plt.scatter(fut_seq[:,0],fut_seq[:,1],c=\"green\",label=\"future\",lw=3,ls='--')\n",
    "#             plt.gca().add_patch(patches.Rectangle((seq[5,0]-10, seq[5,1]-0.05), 10, 0.1,edgecolor=\"black\",facecolor=\"orange\"))\n",
    "            plt.text(x= seq[5,0]-5, y = seq[5,1]-0.2,s=f\"{i}\",fontsize=12,fontweight=\"bold\", horizontalalignment='center')\n",
    "        elif i == 1:\n",
    "            hist_mask,fut_mask = (hist_seq!=0),(fut_seq!=0)\n",
    "            mhist_seq = hist_seq[hist_mask].reshape(-1,2)\n",
    "            mfut_seq = fut_seq[fut_mask].reshape(-1,2)  \n",
    "            # plot hist\n",
    "            if hist_mask.sum()==0:\n",
    "                pass\n",
    "            else:\n",
    "                plt.scatter(mhist_seq[:,0],mhist_seq[:,1],c=\"blue\",label=\"neighbor hist\",alpha=alpha+0.3,lw=3)\n",
    "            # plot future\n",
    "            if fut_mask.sum()==0:\n",
    "                pass\n",
    "            else:\n",
    "                plt.scatter(mfut_seq[:,0],mfut_seq[:,1],c=\"blue\",label=\"neighbor future\",alpha=alpha,lw=3,ls='--')\n",
    "            #plot current\n",
    "            if (seq[5]!=0).all():\n",
    "#                 plt.gca().add_patch(patches.Rectangle((seq[5,0]-10, seq[5,1]-0.05), 10, 0.1,edgecolor=\"black\",facecolor=\"blue\"))\n",
    "                plt.text(x= seq[5,0]-5, y = seq[5,1]-0.2,s=f\"{i}\",fontsize=12,fontweight=\"bold\", horizontalalignment='center')\n",
    "        else:\n",
    "            hist_mask,fut_mask = (hist_seq!=0).any(axis=1),(fut_seq!=0).any(axis=1)\n",
    "            mhist_seq = hist_seq[hist_mask].reshape(-1,2)\n",
    "            mfut_seq = fut_seq[fut_mask].reshape(-1,2)  \n",
    "            # plot hist\n",
    "            if hist_mask.sum()==0:\n",
    "                pass\n",
    "            else:\n",
    "                plt.scatter(mhist_seq[:,0],mhist_seq[:,1],c=\"blue\",alpha=alpha+0.3,lw=3)\n",
    "            # plot future\n",
    "            if fut_mask.sum()==0:\n",
    "                pass\n",
    "            else:\n",
    "                plt.scatter(mfut_seq[:,0],mfut_seq[:,1],c=\"blue\",alpha=alpha,lw=3,ls='--')\n",
    "            #plot current\n",
    "            if (seq[5]!=0).all():\n",
    "#                 plt.gca().add_patch(patches.Rectangle((seq[5,0]-10, seq[5,1]-0.05), 10, 0.1,edgecolor=\"black\",facecolor=\"blue\"))\n",
    "                plt.text(x= seq[5,0]-5, y = seq[5,1]-0.2,s=f\"{i}\",fontsize=12,fontweight=\"bold\", horizontalalignment='center')\n",
    "    plt.legend(loc=\"best\")\n",
    "    return fig"
   ]
  },
  {
   "cell_type": "code",
   "execution_count": 61,
   "metadata": {},
   "outputs": [
    {
     "data": {
      "image/png": "[encoded data removed]",
      "text/plain": [
       "<Figure size 360x360 with 1 Axes>"
      ]
     },
     "metadata": {
      "needs_background": "light"
     },
     "output_type": "display_data"
    }
   ],
   "source": [
    "plot_batch(right_data[7750],figsize=(5,5))\n",
    "plt.show()"
   ]
  },
  {
   "cell_type": "code",
   "execution_count": 62,
   "metadata": {},
   "outputs": [],
   "source": [
    "for i in range(0,right_data.shape[0],30):\n",
    "    plot_batch(right_data[i],figsize=(5,5))\n",
    "    plt.savefig(f\"temp/right_pic/{i}.png\")\n",
    "    plt.close(\"all\")"
   ]
  },
  {
   "cell_type": "code",
   "execution_count": null,
   "metadata": {},
   "outputs": [],
   "source": []
  }
 ],
 "metadata": {
  "kernelspec": {
   "display_name": "Python 3",
   "language": "python",
   "name": "python3"
  },
  "language_info": {
   "codemirror_mode": {
    "name": "ipython",
    "version": 3
   },
   "file_extension": ".py",
   "mimetype": "text/x-python",
   "name": "python",
   "nbconvert_exporter": "python",
   "pygments_lexer": "ipython3",
   "version": "3.7.6"
  }
 },
 "nbformat": 4,
 "nbformat_minor": 4
}
